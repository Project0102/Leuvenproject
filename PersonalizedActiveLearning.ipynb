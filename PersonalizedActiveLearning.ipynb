{
 "cells": [
  {
   "cell_type": "markdown",
   "metadata": {},
   "source": [
    "## Package"
   ]
  },
  {
   "cell_type": "code",
   "execution_count": null,
   "metadata": {
    "tags": []
   },
   "outputs": [],
   "source": [
    "import warnings\n",
    "# Suppress warning printouts\n",
    "warnings.filterwarnings(\"ignore\")"
   ]
  },
  {
   "cell_type": "code",
   "execution_count": null,
   "metadata": {},
   "outputs": [],
   "source": [
    "import pandas as pd\n",
    "from surprise import Dataset\n",
    "from surprise import Reader\n",
    "from surprise import accuracy\n",
    "from surprise import SVD\n",
    "import time\n",
    "import datetime\n",
    "from utils import train_test_split, df_to_matrix, matrix_to_df_2, set_diff\n",
    "from surprise.model_selection.split import train_test_split as tr_te_split\n",
    "from DecisionTreeRecGenreModel import DecisionTreeRecGenreModel\n",
    "from DecisionTreeRecArtistModel import DecisionTreeRecArtistModel\n",
    "from DecisionTreeRecModel import DecisionTreeRecModel\n",
    "from scipy import sparse\n",
    "import pickle"
   ]
  },
  {
   "cell_type": "code",
   "execution_count": null,
   "metadata": {},
   "outputs": [],
   "source": [
    "with open(\"data/top_items.pkl\", \"rb\") as file:\n",
    "    top_items_list = pickle.load(file)\n",
    "with open(\"data/top_genres.pkl\", \"rb\") as file:\n",
    "    top_genres_list = pickle.load(file)\n",
    "print(len(top_items_list))\n",
    "print(len(top_genres_list))"
   ]
  },
  {
   "cell_type": "code",
   "execution_count": null,
   "metadata": {},
   "outputs": [],
   "source": [
    "filtered_data_genre = pd.read_csv('data/filtered_data_genre.csv')\n",
    "filtered_data_artist = pd.read_csv('data/filtered_data_artist.csv')\n",
    "filtered_data_track = pd.read_csv('data/filtered_data_track.csv')\n",
    "print(filtered_data_genre.info())\n",
    "print(filtered_data_artist.info())\n",
    "print(filtered_data_track.info())"
   ]
  },
  {
   "cell_type": "code",
   "execution_count": null,
   "metadata": {},
   "outputs": [],
   "source": [
    "genre_matrix, grid_to_idx, gidx_to_rid, gcid_to_idx, gidx_to_cid = df_to_matrix(filtered_data_genre,\"user_id\",\"genre_id\",\"rating\")\n",
    "print(genre_matrix.shape)"
   ]
  },
  {
   "cell_type": "code",
   "execution_count": null,
   "metadata": {},
   "outputs": [],
   "source": [
    "artist_matrix, arid_to_idx, aidx_to_rid, acid_to_idx, aidx_to_cid = df_to_matrix(filtered_data_artist,\"user_id\",\"artist_id\",\"rating\")\n",
    "print(artist_matrix.shape)"
   ]
  },
  {
   "cell_type": "code",
   "execution_count": null,
   "metadata": {},
   "outputs": [],
   "source": [
    "matrix, rid_to_idx, idx_to_rid, cid_to_idx, idx_to_cid = df_to_matrix(filtered_data_track,\"user_id\",\"item_id\",\"rating\")\n",
    "# split to train, X and eval sets\n",
    "al,train,_ = train_test_split(matrix,1)\n",
    "X,test,_ = train_test_split(al,10)"
   ]
  },
  {
   "cell_type": "code",
   "execution_count": null,
   "metadata": {},
   "outputs": [],
   "source": [
    "predictions_iter,rmse,mae = [],[],[]\n",
    "# Performance before elicitation\n",
    "train_df = matrix_to_df_2(train,idx_to_rid,idx_to_cid)\n",
    "reader = Reader(rating_scale=(0, 100))\n",
    "data_r = Dataset.load_from_df(train_df[['user_id', 'item_id', 'rating']], reader)\n",
    "data_rr = data_r.build_full_trainset()\n",
    "algo = SVD()\n",
    "algo.fit(data_rr)\n",
    "test_df = matrix_to_df_2(test,idx_to_rid,idx_to_cid)\n",
    "test_r = Dataset.load_from_df(test_df[['user_id', 'item_id', 'rating']], reader)\n",
    "test_rr = test_r.build_full_trainset()\n",
    "test_rrr = test_rr.build_testset()\n",
    "predictions= algo.test(test_rrr)\n",
    "rmse.append(accuracy.rmse(predictions))\n",
    "mae.append(accuracy.mae(predictions))"
   ]
  },
  {
   "cell_type": "code",
   "execution_count": null,
   "metadata": {},
   "outputs": [],
   "source": [
    "c_u_dict = {}\n",
    "all_items = list(range(0,train.shape[1]))\n",
    "X_matrix = (X.tolil()).copy()\n",
    "train_copy = (train.tolil()).copy()\n",
    "print(\"Data built. Start active learning iterations\")"
   ]
  },
  {
   "cell_type": "code",
   "execution_count": null,
   "metadata": {},
   "outputs": [],
   "source": [
    "iteration=14\n",
    "k=20\n",
    "count=0 \n",
    "recom_count = 0\n",
    "for count in range(0,iteration): \n",
    "    tstart_time = time.time()\n",
    "    print(\"Build the decision tree with training data for iteration:\", count+1)\n",
    "    # Format and print the current time\n",
    "    print (\"Tree Build Start time: \", datetime.datetime.now().strftime('%H:%M:%S'))\n",
    "    #Build the decision tree with training data\n",
    "    #dtmodel = DecisionTreeRecGenreModel(train_copy.tocsc(), genre_matrix.tocsc(), top_items_list, top_genres_list, tree_depth_threshold=7)\n",
    "    dtmodel = DecisionTreeRecModel(train_copy.tocsc(), tree_depth_threshold=7)\n",
    "    dtmodel.build_model()\n",
    "    tend_time = time.time()\n",
    "    print(\"Time take to build tree: \", tend_time - tstart_time, \"seconds\")\n",
    "    print(\"Start Active learning\")\n",
    "    astart_time = time.time()\n",
    "    for u in sorted(dtmodel.rU.keys()):\n",
    "        scores = {}\n",
    "        if count ==0:\n",
    "            p_u = train_copy.getrow(u).nonzero()[1]\n",
    "            #print(\"p[u]\", p_u)\n",
    "            #c_u = list(set(all_items) - set(p_u))\n",
    "            c_u = set_diff(all_items,p_u)\n",
    "            c_u_dict[u] = c_u.copy()\n",
    "        else:\n",
    "            c_u = c_u_dict[u].copy()\n",
    "        #print(\"Predict rating for user:\",u, \", itemCount: \", len(c_u))\n",
    "        if len(c_u) > 0:\n",
    "            scores = dtmodel.predict_fast(u, c_u)\n",
    "            #scores = dtmodel.predict(u, c_u)\n",
    "            #print_prediction_progress(5000, u+=1, 50)\n",
    "            ranking_init = sorted(scores.items(),reverse=True, key=lambda x: x[1])\n",
    "            ranking_u = [i[0] for i in ranking_init]\n",
    "            topk_u = ranking_u[:k]\n",
    "            c_u_dict[u] = list(set(c_u) - set(topk_u))\n",
    "            px_u = X_matrix.getrow(u).nonzero()[1]\n",
    "            recom = [item for item in topk_u if item in px_u]\n",
    "            #recom_count += len(recom)\n",
    "            #print(\"Len Cu: \", len (c_u),\"Recom Count: \", recom_count, \"Recom: \", recom)\n",
    "            counter = 0\n",
    "            for item in recom:\n",
    "                #print(\"Inside update train copy\")\n",
    "                #print(\"Predicted:\", scores[item] ,\"X:\", X[u,item])\n",
    "                counter+=1\n",
    "                train_copy[u,item] = X[u,item]\n",
    "                X_matrix[u,item] = 0\n",
    "            #print(\"Active learning complete for user: \", u)\n",
    "        else:\n",
    "            print(\"Prediction complete as datalist empty\")\n",
    "            break\n",
    "    aend_time = time.time()\n",
    "    print(\"Time take to do Active learning: \", aend_time - astart_time, \"seconds\")\n",
    "    print(\"Retrain the SVD model and re-evaluate the model for iteration:\", count+1)\n",
    "    train_df = matrix_to_df_2(train_copy,idx_to_rid,idx_to_cid)\n",
    "    reader = Reader(rating_scale=(0, 100))\n",
    "    data_r = Dataset.load_from_df(train_df[['user_id', 'item_id', 'rating']], reader)\n",
    "    data_rr = data_r.build_full_trainset()\n",
    "    algo.fit(data_rr)\n",
    "    #test_df = matrix_to_df_2(test,idx_to_rid,idx_to_cid)\n",
    "    #test_r = Dataset.load_from_df(test_df[['user_id', 'item_id', 'rating']], reader)\n",
    "    #test_rr = test_r.build_full_trainset()\n",
    "    #test_rrr = test_rr.build_testset()\n",
    "    predictions= algo.test(test_rrr)\n",
    "    rmse.append(accuracy.rmse(predictions))\n",
    "    mae.append(accuracy.mae(predictions))\n",
    "    # Create a DataFrame from the lists\n",
    "    data = pd.DataFrame({\"RMSE\": rmse, \"MAE\": mae})\n",
    "    # Define the file name where you want to save the data\n",
    "    file_name = \"output/rmse_mae_data.csv\"\n",
    "    # Save the DataFrame to a CSV file\n",
    "    data.to_csv(file_name, index=False)\n",
    "    print(\"Data saved to\", file_name)"
   ]
  },
  {
   "cell_type": "code",
   "execution_count": null,
   "metadata": {},
   "outputs": [],
   "source": []
  }
 ],
 "metadata": {
  "kernelspec": {
   "display_name": "anndl",
   "language": "python",
   "name": "anndl"
  },
  "language_info": {
   "codemirror_mode": {
    "name": "ipython",
    "version": 3
   },
   "file_extension": ".py",
   "mimetype": "text/x-python",
   "name": "python",
   "nbconvert_exporter": "python",
   "pygments_lexer": "ipython3",
   "version": "3.9.12"
  }
 },
 "nbformat": 4,
 "nbformat_minor": 4
}
